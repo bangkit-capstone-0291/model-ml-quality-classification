{
  "nbformat": 4,
  "nbformat_minor": 0,
  "metadata": {
    "accelerator": "GPU",
    "colab": {
      "name": "baseline-quality-classification.ipynb",
      "provenance": [],
      "collapsed_sections": []
    },
    "kernelspec": {
      "display_name": "Python 3",
      "name": "python3"
    },
    "language_info": {
      "name": "python"
    }
  },
  "cells": [
    {
      "cell_type": "markdown",
      "metadata": {
        "id": "RrAaaXGgThpa"
      },
      "source": [
        "## Collecting Data \n",
        "Source of datasets :\n",
        "\n",
        "1.   From IEEE : https://ieee-dataport.org/open-access/fruitsgb-top-indian-fruits-quality\n",
        "2.   From Kaggle : https://www.kaggle.com/sriramr/fruits-fresh-and-rotten-for-classification\n",
        "\n",
        "But, we already combine both and make a drive. Below is the link for zip dataset (google drive): \n",
        "https://drive.google.com/file/d/1s0mHiO3wF_shUHO8NwjytBD1svWAFSr_/view?usp=sharing\n",
        "\n",
        "\n",
        "\n",
        "\n"
      ]
    },
    {
      "cell_type": "code",
      "metadata": {
        "colab": {
          "base_uri": "https://localhost:8080/"
        },
        "id": "ZN7Is77rU-dD",
        "outputId": "51cc6b3b-4e61-4ee8-d094-5d341f77dbca"
      },
      "source": [
        "import tensorflow as tf\n",
        "print(tf.__version__)"
      ],
      "execution_count": 1,
      "outputs": [
        {
          "output_type": "stream",
          "text": [
            "2.5.0\n"
          ],
          "name": "stdout"
        }
      ]
    },
    {
      "cell_type": "code",
      "metadata": {
        "colab": {
          "base_uri": "https://localhost:8080/"
        },
        "id": "WaxsRiHF2rhA",
        "outputId": "0721cfb6-2ff4-41a2-d98c-ea886c92083a"
      },
      "source": [
        "from google.colab import drive\n",
        "\n",
        "#to connect drive account to colab\n",
        "drive.mount('/content/gdrive')"
      ],
      "execution_count": 2,
      "outputs": [
        {
          "output_type": "stream",
          "text": [
            "Mounted at /content/gdrive\n"
          ],
          "name": "stdout"
        }
      ]
    },
    {
      "cell_type": "code",
      "metadata": {
        "id": "eyqM-8Da4H_E"
      },
      "source": [
        "import shutil\n",
        "import os\n",
        "\n",
        "source = r'/content/gdrive/MyDrive/dataset.zip'\n",
        "destination = r'/content/dataset.zip'"
      ],
      "execution_count": 7,
      "outputs": []
    },
    {
      "cell_type": "code",
      "metadata": {
        "colab": {
          "base_uri": "https://localhost:8080/",
          "height": 37
        },
        "id": "kxGRKHr1L00i",
        "outputId": "0596e524-97e2-4d0f-8423-c228e7baf457"
      },
      "source": [
        "shutil.copyfile(source, destination)"
      ],
      "execution_count": 8,
      "outputs": [
        {
          "output_type": "execute_result",
          "data": {
            "application/vnd.google.colaboratory.intrinsic+json": {
              "type": "string"
            },
            "text/plain": [
              "'/content/dataset.zip'"
            ]
          },
          "metadata": {
            "tags": []
          },
          "execution_count": 8
        }
      ]
    },
    {
      "cell_type": "code",
      "metadata": {
        "id": "3i_m_M7qMBBW"
      },
      "source": [
        "#extract zip file\n",
        "import zipfile \n",
        "local_zip = destination\n",
        "zip_ref = zipfile.ZipFile(local_zip, 'r')\n",
        "zip_ref.extractall('/content/')\n",
        "zip_ref.close()"
      ],
      "execution_count": 9,
      "outputs": []
    }
  ]
}